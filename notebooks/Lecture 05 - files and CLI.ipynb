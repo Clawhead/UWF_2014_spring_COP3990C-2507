{
 "metadata": {
  "name": "Lecture 05 - files and CLI"
 },
 "nbformat": 3,
 "nbformat_minor": 0,
 "worksheets": [
  {
   "cells": [
    {
     "cell_type": "heading",
     "level": 1,
     "metadata": {},
     "source": [
      "COP3990C - Python Programming"
     ]
    },
    {
     "cell_type": "markdown",
     "metadata": {},
     "source": [
      "<img src=\"files/images/python-logo.png\">"
     ]
    },
    {
     "cell_type": "heading",
     "level": 2,
     "metadata": {},
     "source": [
      "Lecture 05 - Files and Command Line Input (CLI)"
     ]
    },
    {
     "cell_type": "code",
     "collapsed": false,
     "input": [
      "# this block is just for the style sheet for the notebook\n",
      "from IPython.core.display import HTML\n",
      "def css_styling():\n",
      "    styles = open(\"styles/custom.css\", \"r\").read()\n",
      "    return HTML(styles)\n",
      "css_styling()"
     ],
     "language": "python",
     "metadata": {},
     "outputs": [
      {
       "html": [
        "<style>\n",
        "div.warn {    \n",
        "  background-color: #ff8c00;\n",
        "  border-color: #00008b;\n",
        "  border-left: 5px solid #00008b;\n",
        "  padding: 0.5em;\n",
        "}\n",
        "\n",
        "    @font-face {\n",
        "        font-family: \"Computer Modern\";\n",
        "        src: url('http://mirrors.ctan.org/fonts/cm-unicode/fonts/otf/cmunss.otf');\n",
        "    }\n",
        "    div.cell{\n",
        "        width:800px;\n",
        "        margin-left:16% !important;\n",
        "        margin-right:auto;\n",
        "    }\n",
        "    h1 {\n",
        "        font-family: Helvetica, serif;\n",
        "    }\n",
        "    h2 {\n",
        "        font-family: Helvetica, serif;\n",
        "    }\n",
        "    h4{\n",
        "        margin-top:12px;\n",
        "        margin-bottom: 3px;\n",
        "       }\n",
        "    div.text_cell_render{\n",
        "        font-family: Computer Modern, \"Helvetica Neue\", Arial, Helvetica, Geneva, sans-serif;\n",
        "        line-height: 135%;\n",
        "        font-size: 120%;\n",
        "        width:600px;\n",
        "        margin-left:auto;\n",
        "        margin-right:auto;\n",
        "    }\n",
        "    .CodeMirror{\n",
        "            font-family: \"Source Code Pro\", source-code-pro,Consolas, monospace;\n",
        "    }\n",
        "/*    .prompt{\n",
        "        display: None;\n",
        "    }*/\n",
        "    .text_cell_render h5 {\n",
        "        font-weight: 300;\n",
        "        font-size: 16pt;\n",
        "        color: #4057A1;\n",
        "        font-style: italic;\n",
        "        margin-bottom: .5em;\n",
        "        margin-top: 0.5em;\n",
        "        display: block;\n",
        "    }\n",
        "    \n",
        "    .warning{\n",
        "        color: rgb( 240, 20, 20 )\n",
        "        }  \n",
        "</style>\n",
        "<script>\n",
        "    MathJax.Hub.Config({\n",
        "                        TeX: {\n",
        "                           extensions: [\"AMSmath.js\"]\n",
        "                           },\n",
        "                tex2jax: {\n",
        "                    inlineMath: [ ['$','$'], [\"\\\\(\",\"\\\\)\"] ],\n",
        "                    displayMath: [ ['$$','$$'], [\"\\\\[\",\"\\\\]\"] ]\n",
        "                },\n",
        "                displayAlign: 'center', // Change this to 'center' to center equations.\n",
        "                \"HTML-CSS\": {\n",
        "                    styles: {'.MathJax_Display': {\"margin\": 4}}\n",
        "                }\n",
        "        });\n",
        "</script>\n",
        "\n"
       ],
       "output_type": "pyout",
       "prompt_number": 1,
       "text": [
        "<IPython.core.display.HTML at 0x4311df0>"
       ]
      }
     ],
     "prompt_number": 1
    },
    {
     "cell_type": "code",
     "collapsed": false,
     "input": [
      "# file seperator - your program needs to be multiplatfom\n",
      "import os\n",
      "file_name = 'data' + os.sep + 'test'\n",
      "print file_name\n",
      "fin = open(file_name,'r')\n",
      "lines = fin.readlines()\n",
      "fin.close()"
     ],
     "language": "python",
     "metadata": {},
     "outputs": [
      {
       "output_type": "stream",
       "stream": "stdout",
       "text": [
        "data\\test\n"
       ]
      }
     ],
     "prompt_number": 17
    },
    {
     "cell_type": "code",
     "collapsed": false,
     "input": [
      "print lines"
     ],
     "language": "python",
     "metadata": {},
     "outputs": [
      {
       "output_type": "stream",
       "stream": "stdout",
       "text": [
        "[' Volume in drive C has no label.\\n', ' Volume Serial Number is 92E0-AA74\\n', '\\n', ' Directory of C:\\\\Users\\\\User\\\\Dropbox\\\\UWF\\\\spring2014\\\\Python\\\\UWF_2014_spring_COP3990C-2507\\\\notebooks\\n', '\\n', '01/15/2014  12:03 PM    <DIR>          .\\n', '01/15/2014  12:03 PM    <DIR>          ..\\n', '01/13/2014  02:58 AM    <DIR>          .ipynb_checkpoints\\n', '01/13/2014  09:22 AM    <DIR>          images\\n', '01/13/2014  08:13 AM            21,727 Lecture 01 - Introduction.ipynb\\n', '01/15/2014  10:09 AM            20,778 Lecture 04 - more on datatypes.ipynb\\n', '01/15/2014  09:41 AM            43,585 Lecture 3 - Data Types.ipynb\\n', '01/13/2014  08:11 AM                10 README.md\\n', '01/13/2014  02:58 AM    <DIR>          styles\\n', '01/15/2014  12:03 PM                 0 test\\n', '               5 File(s)         86,100 bytes\\n', '               5 Dir(s)  314,656,653,312 bytes free\\n']\n"
       ]
      }
     ],
     "prompt_number": 18
    },
    {
     "cell_type": "code",
     "collapsed": false,
     "input": [
      "#file_name = 'data' + os.sep + 'test'\n",
      "fin = open(r'data\\test','r')\n",
      "lines = fin.readlines()\n",
      "fin.close()"
     ],
     "language": "python",
     "metadata": {},
     "outputs": [],
     "prompt_number": 14
    },
    {
     "cell_type": "code",
     "collapsed": false,
     "input": [
      "lines"
     ],
     "language": "python",
     "metadata": {},
     "outputs": [
      {
       "output_type": "pyout",
       "prompt_number": 15,
       "text": [
        "[' Volume in drive C has no label.\\n',\n",
        " ' Volume Serial Number is 92E0-AA74\\n',\n",
        " '\\n',\n",
        " ' Directory of C:\\\\Users\\\\User\\\\Dropbox\\\\UWF\\\\spring2014\\\\Python\\\\UWF_2014_spring_COP3990C-2507\\\\notebooks\\n',\n",
        " '\\n',\n",
        " '01/15/2014  12:03 PM    <DIR>          .\\n',\n",
        " '01/15/2014  12:03 PM    <DIR>          ..\\n',\n",
        " '01/13/2014  02:58 AM    <DIR>          .ipynb_checkpoints\\n',\n",
        " '01/13/2014  09:22 AM    <DIR>          images\\n',\n",
        " '01/13/2014  08:13 AM            21,727 Lecture 01 - Introduction.ipynb\\n',\n",
        " '01/15/2014  10:09 AM            20,778 Lecture 04 - more on datatypes.ipynb\\n',\n",
        " '01/15/2014  09:41 AM            43,585 Lecture 3 - Data Types.ipynb\\n',\n",
        " '01/13/2014  08:11 AM                10 README.md\\n',\n",
        " '01/13/2014  02:58 AM    <DIR>          styles\\n',\n",
        " '01/15/2014  12:03 PM                 0 test\\n',\n",
        " '               5 File(s)         86,100 bytes\\n',\n",
        " '               5 Dir(s)  314,656,653,312 bytes free\\n']"
       ]
      }
     ],
     "prompt_number": 15
    },
    {
     "cell_type": "code",
     "collapsed": false,
     "input": [
      "import pandas as pd"
     ],
     "language": "python",
     "metadata": {},
     "outputs": [],
     "prompt_number": 16
    },
    {
     "cell_type": "heading",
     "level": 5,
     "metadata": {},
     "source": [
      "<div style=\"color:blue\">\n",
      "  <h2>Types of files we'll look at</h2>\n",
      "</div>\n"
     ]
    },
    {
     "cell_type": "markdown",
     "metadata": {},
     "source": [
      "In this course we'll look at the following file types:\n",
      "<ul>\n",
      "<li> plain text</li>\n",
      "<li> comma separated values (CSV) </li>\n",
      "<li> binary </li>\n",
      "<li> pickled </li>\n",
      "<li> panda's frames, hdf5, Matlab mat files, etc ... </li>\n",
      "</ul>\n",
      "Later we'll use numpy functions to read text/csv/binary files into arrays and data structures directly"
     ]
    },
    {
     "cell_type": "heading",
     "level": 6,
     "metadata": {},
     "source": [
      "<div style=\"color:orange\">\n",
      "  <h3>Plain Text Files</h3>\n",
      "</div>"
     ]
    },
    {
     "cell_type": "markdown",
     "metadata": {},
     "source": [
      "Data can be stored in plain text files with arbitrary delimiters (space, tabs, commas). Data does not need to be organized into an equal number of elements per \"record\" or line. Plain text files (also CSV files) are structured as a set of lines terminated by end of line characters, '\\n'. \n",
      "We don't need to import any libraries to start working with files. The following functions are used frequently:\n",
      "<ul>\n",
      "    <li> <b>open()</b>. This created a file object (handle) that makes the files contents accessible to the program. A file can be opened in different modes. The default mode is \"read\" ('r'). Other modes are \"write\" ('w'), \"append\" ('a'), \"read binary\" ('rb'), \"write binary\" ('wb'), and \"read and write\" ('r+') </li>\n",
      "    <li> <b> close() </b>. This function closes the access to the file. If you forget to issue this command Python will take care of the garbage collection and close the stream. It's however strongly encouraged to close the stream yourself when you're done reading the necessary data. </li>\n",
      "    <li> <b> read()</b>. This function reads the contents of the file as one (huge) string. You can also specify the number of characters to read by passing that number to the function.</li>\n",
      "    <li> <b>readline()</b>. This functions reads the contents of a file one line at a time as a string. Remember that lines are terminated by a the end of line character '\\n'. </li>\n",
      "    <li><b>readlines()</b>. This function reads the whole file as a list of lines as strings. </li>\n",
      "    <li> <b>write()</b>: writes one string at a time to the file. </li>\n",
      "    <li> <b>seek(offset, initial location or refernce point)</b>:  moves the pointer by the specified offset from the initial location. The initial location or the reference point can take on 3 values: 0 - the beginning of the file,  1 - the current location, 2 - the end of the file.</li>\n",
      "    <li> <b> tell() </b>: tell the location of the pointer in the file. </li>\n",
      "</ul>"
     ]
    },
    {
     "cell_type": "markdown",
     "metadata": {},
     "source": [
      "<div style=\"color:orange\">\n",
      "  <h4>Examples</h4>\n",
      "</div>"
     ]
    },
    {
     "cell_type": "code",
     "collapsed": false,
     "input": [
      "# open an existing  file for reading\n",
      "\n",
      "import os # needed for the file separation\n",
      "\n",
      "file_name = 'data' + os.sep + 'text_file.txt'\n",
      "my_file = open(file_name, 'r')\n",
      "\n",
      "# read the content of the whole file then close\n",
      "file_content = my_file.read()\n",
      "my_file.close()\n",
      "\n",
      "# print the conent of the file\n",
      "print file_content"
     ],
     "language": "python",
     "metadata": {},
     "outputs": [
      {
       "output_type": "stream",
       "stream": "stdout",
       "text": [
        "0123456789\n",
        "0123456789\n",
        "0123456789\n",
        "0123456789\n"
       ]
      }
     ],
     "prompt_number": 2
    },
    {
     "cell_type": "code",
     "collapsed": false,
     "input": [
      "# open an existing file and read a few bytes at a time\n",
      "file_name = 'data' + os.sep + 'text_file.txt'\n",
      "my_file = open(file_name, 'r')"
     ],
     "language": "python",
     "metadata": {},
     "outputs": [],
     "prompt_number": 102
    },
    {
     "cell_type": "code",
     "collapsed": false,
     "input": [
      "# read 10 bytes\n",
      "characters = my_file.read(10)\n",
      "print 'the first 10 bytes:', characters"
     ],
     "language": "python",
     "metadata": {},
     "outputs": [
      {
       "output_type": "stream",
       "stream": "stdout",
       "text": [
        "the first 10 bytes: 0123456789\n"
       ]
      }
     ],
     "prompt_number": 103
    },
    {
     "cell_type": "code",
     "collapsed": false,
     "input": [
      "# read the next 10 bytes - recall that the end of line characted is counted as \n",
      "# part of the string\n",
      "characters = my_file.read(10)\n",
      "print 'the second 10 bytes', characters\n",
      "ord_list = [ord(x) for x in characters]\n",
      "print 'length of list is: ', len(ord_list)\n",
      "print 'list is ', ord_list"
     ],
     "language": "python",
     "metadata": {},
     "outputs": [
      {
       "output_type": "stream",
       "stream": "stdout",
       "text": [
        "the second 10 bytes \n",
        "012345678\n",
        "length of list is:  10\n",
        "list is  [10, 48, 49, 50, 51, 52, 53, 54, 55, 56]\n"
       ]
      }
     ],
     "prompt_number": 104
    },
    {
     "cell_type": "code",
     "collapsed": false,
     "input": [
      "# the pointer's location after reading 20 bytes\n",
      "print 'the pointer is at poistion ', my_file.tell()"
     ],
     "language": "python",
     "metadata": {},
     "outputs": [
      {
       "output_type": "stream",
       "stream": "stdout",
       "text": [
        "the pointer is at poistion  21\n"
       ]
      }
     ],
     "prompt_number": 105
    },
    {
     "cell_type": "code",
     "collapsed": false,
     "input": [
      "# read the next byte\n",
      "print 'the 21st byte is ', my_file.read(1)"
     ],
     "language": "python",
     "metadata": {},
     "outputs": [
      {
       "output_type": "stream",
       "stream": "stdout",
       "text": [
        "the 21st byte is  9\n"
       ]
      }
     ],
     "prompt_number": 106
    },
    {
     "cell_type": "code",
     "collapsed": false,
     "input": [
      "# move to the beginning of the file by using the seek function\n",
      "my_file.seek(0,0)"
     ],
     "language": "python",
     "metadata": {},
     "outputs": [],
     "prompt_number": 107
    },
    {
     "cell_type": "code",
     "collapsed": false,
     "input": [
      "# skip 20 bytes (charactes) and read the one right after\n",
      "print 'after seeking to the beginning of the file we are at location:', my_file.tell()\n",
      "my_file.seek(20, 0)\n",
      "print 'the 21st byte is:', my_file.read(1)"
     ],
     "language": "python",
     "metadata": {},
     "outputs": [
      {
       "output_type": "stream",
       "stream": "stdout",
       "text": [
        "after seeking to the beginning of the file we are at location: 0\n",
        "the 21st byte is: 8\n"
       ]
      }
     ],
     "prompt_number": 108
    },
    {
     "cell_type": "code",
     "collapsed": false,
     "input": [
      "# skip to the 3rd byte location from the beginning of the file\n",
      "my_file.seek(3, 0)\n",
      "print 'i am @ ', my_file.tell()"
     ],
     "language": "python",
     "metadata": {},
     "outputs": [
      {
       "output_type": "stream",
       "stream": "stdout",
       "text": [
        "i am @  3\n"
       ]
      }
     ],
     "prompt_number": 109
    },
    {
     "cell_type": "code",
     "collapsed": false,
     "input": [
      "# read the 4th byte\n",
      "print 'the 4th byte is ', my_file.read(1)"
     ],
     "language": "python",
     "metadata": {},
     "outputs": [
      {
       "output_type": "stream",
       "stream": "stdout",
       "text": [
        "the 4th byte is  3\n"
       ]
      }
     ],
     "prompt_number": 110
    },
    {
     "cell_type": "code",
     "collapsed": false,
     "input": [
      "# skip 10 byte from this location\n",
      "my_file.seek(10, 1)"
     ],
     "language": "python",
     "metadata": {},
     "outputs": [],
     "prompt_number": 111
    },
    {
     "cell_type": "code",
     "collapsed": false,
     "input": [
      "# get the current location and the character there\n",
      "print 'we are at ', my_file.tell()\n",
      "print my_file.read(1)"
     ],
     "language": "python",
     "metadata": {},
     "outputs": [
      {
       "output_type": "stream",
       "stream": "stdout",
       "text": [
        "we are at  14\n",
        "2\n"
       ]
      }
     ],
     "prompt_number": 112
    },
    {
     "cell_type": "code",
     "collapsed": false,
     "input": [
      "# read the rest of the file from this point on and print it\n",
      "print 'the rest of the file is:\\n', my_file.read()"
     ],
     "language": "python",
     "metadata": {},
     "outputs": [
      {
       "output_type": "stream",
       "stream": "stdout",
       "text": [
        "the rest of the file is:\n",
        "3456789\n",
        "0123456789\n",
        "0123456789\n"
       ]
      }
     ],
     "prompt_number": 113
    },
    {
     "cell_type": "code",
     "collapsed": false,
     "input": [
      "# read the last 3 bytes before the end of the file\n",
      "my_file.seek(-3, 2)\n",
      "print my_file.read()"
     ],
     "language": "python",
     "metadata": {},
     "outputs": [
      {
       "output_type": "stream",
       "stream": "stdout",
       "text": [
        "789\n"
       ]
      }
     ],
     "prompt_number": 114
    },
    {
     "cell_type": "code",
     "collapsed": false,
     "input": [
      "# read a byte now that we've reached the end of the file\n",
      "print 'the charachter at the end of the file is ', my_file.read()"
     ],
     "language": "python",
     "metadata": {},
     "outputs": [
      {
       "output_type": "stream",
       "stream": "stdout",
       "text": [
        "the charachter at the end of the file is  \n"
       ]
      }
     ],
     "prompt_number": 115
    },
    {
     "cell_type": "code",
     "collapsed": false,
     "input": [
      "# close the file\n",
      "my_file.close()"
     ],
     "language": "python",
     "metadata": {},
     "outputs": [],
     "prompt_number": 116
    },
    {
     "cell_type": "code",
     "collapsed": false,
     "input": [
      "# now let's read one line at a time\n",
      "\n",
      "# open an existing  file for reading\n",
      "file_name = 'data' + os.sep + 'text_file.txt'\n",
      "my_file = open(file_name, 'r')\n",
      "\n",
      "# read the first line\n",
      "first_line = my_file.readline()\n",
      "print first_line\n",
      "\n",
      "# read the second line\n",
      "second_line = my_file.readline()\n",
      "print second_line\n",
      "\n",
      "# close file\n",
      "my_file.close()\n",
      "\n"
     ],
     "language": "python",
     "metadata": {},
     "outputs": [
      {
       "output_type": "stream",
       "stream": "stdout",
       "text": [
        "0123456789\n",
        "\n",
        "0123456789\n",
        "\n"
       ]
      }
     ],
     "prompt_number": 97
    },
    {
     "cell_type": "code",
     "collapsed": false,
     "input": [
      "# note: when readline() is called, a line is read and the \"pointer\" is \n",
      "# moved to the next line within the file; reading is done sequentially. \n",
      "# So if you want the third line you have to go through the first two and ignoring them.\n",
      "\n",
      "# open an existing  file for reading\n",
      "file_name = 'data' + os.sep + 'text_file.txt'\n",
      "my_file = open(file_name, 'r')\n",
      "\n",
      "# read the first and second lines and ignore them - this can go in a loop if you like\n",
      "line = my_file.readline()\n",
      "line = my_file.readline()\n",
      "\n",
      "# read the third line\n",
      "line = my_file.readline()\n",
      "print line\n",
      "\n",
      "# close the file\n",
      "my_file.close()"
     ],
     "language": "python",
     "metadata": {},
     "outputs": [
      {
       "output_type": "stream",
       "stream": "stdout",
       "text": [
        "0123456789\n",
        "\n"
       ]
      }
     ],
     "prompt_number": 98
    },
    {
     "cell_type": "code",
     "collapsed": false,
     "input": [
      "# read the whole file as a list contating each line as an element\n",
      "\n",
      "\n",
      "# open an existing  file for reading\n",
      "file_name = 'data' + os.sep + 'text_file.txt'\n",
      "my_file = open(file_name, 'r')\n",
      "\n",
      "# read the file as a list and close\n",
      "data = my_file.readlines()\n",
      "my_file.close()\n",
      "\n",
      "\n",
      "# show the list - notice the end of line character in each element\n",
      "print data"
     ],
     "language": "python",
     "metadata": {},
     "outputs": [
      {
       "output_type": "stream",
       "stream": "stdout",
       "text": [
        "['0123456789\\n', '0123456789\\n', '0123456789\\n', '0123456789']\n"
       ]
      }
     ],
     "prompt_number": 121
    },
    {
     "cell_type": "code",
     "collapsed": false,
     "input": [
      "# loop though the list and print the lines - the EOL character will be printed as a \n",
      "# new line so in the addition to the new line provided by the print statement we also \n",
      "# get one from  the string itself\n",
      "for line in data:\n",
      "    print line"
     ],
     "language": "python",
     "metadata": {},
     "outputs": [
      {
       "output_type": "stream",
       "stream": "stdout",
       "text": [
        "0123456789\n",
        "\n",
        "0123456789\n",
        "\n",
        "0123456789\n",
        "\n",
        "0123456789\n"
       ]
      }
     ],
     "prompt_number": 132
    },
    {
     "cell_type": "code",
     "collapsed": false,
     "input": [
      "# loop though the list and print the lines without the extra EOL charachter\n",
      "for line in data:\n",
      "    print line.strip()"
     ],
     "language": "python",
     "metadata": {},
     "outputs": [
      {
       "output_type": "stream",
       "stream": "stdout",
       "text": [
        "0123456789\n",
        "0123456789\n",
        "0123456789\n",
        "0123456789\n"
       ]
      }
     ],
     "prompt_number": 123
    },
    {
     "cell_type": "code",
     "collapsed": false,
     "input": [
      "# write some data to a file - if the file does not exit then it gets created \n",
      "# otherwise it gets overwritten\n",
      "out_file = 'data' + os.sep + 'out_file.txt'\n",
      "test_out = open(out_file, 'w')"
     ],
     "language": "python",
     "metadata": {},
     "outputs": [],
     "prompt_number": 124
    },
    {
     "cell_type": "code",
     "collapsed": false,
     "input": [
      "# define a string\n",
      "str1 = 'my first line'\n",
      "str2 = 'my second line'\n",
      "\n",
      "# write the strings\n",
      "test_out.write(str1)\n",
      "test_out.write(str2)\n",
      "\n",
      "# close the file\n",
      "test_out.close()\n"
     ],
     "language": "python",
     "metadata": {},
     "outputs": [],
     "prompt_number": 125
    },
    {
     "cell_type": "code",
     "collapsed": false,
     "input": [
      "# if you open the file you'd see that the lines are written back to back with out \n",
      "# an EOL character - to avoid this ammend a EOL to the string\n",
      "out_file = 'data' + os.sep + 'out_file.txt'\n",
      "test_out = open(out_file, 'w')\n",
      "\n",
      "# define a string\n",
      "str1 = 'my first line\\n'\n",
      "str2 = 'my second line'\n",
      "\n",
      "# write the strings\n",
      "test_out.write(str1)\n",
      "test_out.write(str2)\n",
      "\n",
      "# close the file\n",
      "test_out.close()"
     ],
     "language": "python",
     "metadata": {},
     "outputs": [],
     "prompt_number": 126
    },
    {
     "cell_type": "code",
     "collapsed": false,
     "input": [
      "# another way to write the two lines\n",
      "out_file = 'data' + os.sep + 'out_file.txt'\n",
      "test_out = open(out_file, 'w')\n",
      "\n",
      "# define a string\n",
      "str1 = 'my first line\\n'\n",
      "str2 = 'my second line'\n",
      "\n",
      "# write the strings\n",
      "test_out.write(str1 + str2)\n",
      "\n",
      "# close the file\n",
      "test_out.close()"
     ],
     "language": "python",
     "metadata": {},
     "outputs": [],
     "prompt_number": 130
    },
    {
     "cell_type": "code",
     "collapsed": false,
     "input": [
      "# append a line to the file\n",
      "out_file = 'data' + os.sep + 'out_file.txt'\n",
      "test_out = open(out_file, 'a')\n",
      "\n",
      "# define a string\n",
      "str1 = '\\nmy 3rd line\\n'\n",
      "str2 = 'my 4th line'\n",
      "\n",
      "# write the strings\n",
      "test_out.write(str1 + str2)\n",
      "\n",
      "# close the file\n",
      "test_out.close()"
     ],
     "language": "python",
     "metadata": {},
     "outputs": [],
     "prompt_number": 131
    },
    {
     "cell_type": "code",
     "collapsed": false,
     "input": [
      "# another way to open and parse a file is by using the \"with\" keyword. the \n",
      "# advanatage of this is that it handles file closing automatically.\n",
      "\n",
      "with open(file_name, 'r') as fin:\n",
      "    read_data = fin.readlines()\n",
      "\n",
      "    \n",
      "# no closing the file as we did above\n",
      "print read_data"
     ],
     "language": "python",
     "metadata": {},
     "outputs": [
      {
       "output_type": "stream",
       "stream": "stdout",
       "text": [
        "['0123456789\\n', '0123456789\\n', '0123456789\\n', '0123456789']\n"
       ]
      }
     ],
     "prompt_number": 5
    },
    {
     "cell_type": "heading",
     "level": 6,
     "metadata": {},
     "source": [
      "<div style=\"color:orange\">\n",
      "  <h2>CSV files</h2>\n",
      "</div>"
     ]
    },
    {
     "cell_type": "markdown",
     "metadata": {},
     "source": [
      "CSV files are popular since they can be open in a spreadsheet or a text editor. They are organized in a table format. Here we'll work with rectangular csv files (no data missing) and later we'll work with general text files where some data is missing, data and comments are mixed together, where headers are part of the file to let the user know what kind of data he/she is processing. "
     ]
    },
    {
     "cell_type": "code",
     "collapsed": false,
     "input": [
      "# create a csv file the old fashioned way (just like another text file)\n",
      "\n",
      "\n",
      "# file name - look for it in the data folder\n",
      "csv_file = 'data' + os.sep + 'csv_file.csv'\n",
      "\n",
      "# define lines\n",
      "line1 = 'a,b,c,d,e\\n'\n",
      "line2 = 'f,g,h,i,j\\n'\n",
      "line3 = 'h,i,j,k,l'\n",
      "\n",
      "# write the data\n",
      "with open(csv_file, 'wb') as fout:\n",
      "    fout.write(line1 + line2 + line3)\n",
      "\n"
     ],
     "language": "python",
     "metadata": {},
     "outputs": [],
     "prompt_number": 74
    },
    {
     "cell_type": "code",
     "collapsed": false,
     "input": [
      "# let's read the file\n",
      "import csv\n",
      "\n",
      "with open(csv_file, 'rb') as fin:\n",
      "    csv_reader = csv.reader(fin)\n",
      "    \n",
      "    for row in csv_reader:\n",
      "        print row"
     ],
     "language": "python",
     "metadata": {},
     "outputs": [
      {
       "output_type": "stream",
       "stream": "stdout",
       "text": [
        "['a', 'b', 'c', 'd', 'e']\n",
        "['f', 'g', 'h', 'i', 'j']\n",
        "['h', 'i', 'j', 'k', 'l']\n"
       ]
      }
     ],
     "prompt_number": 76
    },
    {
     "cell_type": "code",
     "collapsed": false,
     "input": [
      "# this shows the difference between reading the file using the previous methods\n",
      "# we learned above and the csv way\n",
      "with open(csv_file, 'rb') as fin:\n",
      "    read_data = fin.readlines()\n",
      "  \n",
      "# no closing the file as we did above\n",
      "print read_data"
     ],
     "language": "python",
     "metadata": {},
     "outputs": [
      {
       "output_type": "stream",
       "stream": "stdout",
       "text": [
        "['a,b,c,d,e\\n', 'f,g,h,i,j\\n', 'h,i,j,k,l']\n"
       ]
      }
     ],
     "prompt_number": 77
    },
    {
     "cell_type": "code",
     "collapsed": false,
     "input": [
      "# as you can we we got one list with each row as a string element. \n",
      "# this is not what we want from a csv file. "
     ],
     "language": "python",
     "metadata": {},
     "outputs": []
    },
    {
     "cell_type": "code",
     "collapsed": false,
     "input": [
      "# here is another example\n",
      "# creat another file with headers\n",
      "\n",
      "# file name - look for it in the data folder\n",
      "csv_file = 'data' + os.sep + 'csv_file2.csv'\n",
      "\n",
      "# for generating random numbers\n",
      "import random\n",
      "\n",
      "\n",
      "# define a random 2d array\n",
      "random_nums = [[str(random.random()) for _ in range(6)] for _ in range(6)]\n",
      "\n",
      "# generate a string with all the numbers and new line characters\n",
      "line = 'lon,lat,alt,roll,pitch,yaw\\n'\n",
      "for row in random_nums:\n",
      "    line += ','.join(row)+'\\n'\n",
      "\n",
      "\n",
      "# strip the last EOL character \n",
      "line = line.strip() # line = line[:-1] is another way of doing it   \n",
      "\n",
      "\n",
      "# write the file\n",
      "with open(csv_file, 'wb') as fout:\n",
      "    fout.write(line)"
     ],
     "language": "python",
     "metadata": {},
     "outputs": [],
     "prompt_number": 80
    },
    {
     "cell_type": "code",
     "collapsed": false,
     "input": [
      "# now that we have the file, we can read it in one swoop into a dictionary\n",
      "\n",
      "\n",
      "import csv\n",
      "\n",
      "# the csv file we want to read\n",
      "csv_file = 'data' + os.sep + 'csv_file2.csv'\n",
      "\n",
      "\n",
      "# read the file into a dictionary\n",
      "fin = open(csv_file, 'rb')\n",
      "csv_data = csv.DictReader(fin, delimiter=',')\n",
      "\n",
      "# let's see how the structure looks\n",
      "for line in csv_data:\n",
      "    print line\n",
      "    \n",
      "\n",
      "    \n",
      "# check if the file is closed    \n",
      "print fin.closed\n",
      "\n",
      "# close it\n",
      "fin.close()\n",
      "\n",
      "# check again\n",
      "print fin.closed\n",
      "\n",
      "# let's see of we can access the csv_data again\n",
      "for line in csv_data:\n",
      "    print line"
     ],
     "language": "python",
     "metadata": {},
     "outputs": [
      {
       "ename": "ValueError",
       "evalue": "I/O operation on closed file",
       "output_type": "pyerr",
       "traceback": [
        "\u001b[1;31m---------------------------------------------------------------------------\u001b[0m\n\u001b[1;31mValueError\u001b[0m                                Traceback (most recent call last)",
        "\u001b[1;32m<ipython-input-65-c3fea55e0bea>\u001b[0m in \u001b[0;36m<module>\u001b[1;34m()\u001b[0m\n\u001b[0;32m     28\u001b[0m \u001b[1;33m\u001b[0m\u001b[0m\n\u001b[0;32m     29\u001b[0m \u001b[1;31m# let's see of we can access the csv_data again\u001b[0m\u001b[1;33m\u001b[0m\u001b[1;33m\u001b[0m\u001b[0m\n\u001b[1;32m---> 30\u001b[1;33m \u001b[1;32mfor\u001b[0m \u001b[0mline\u001b[0m \u001b[1;32min\u001b[0m \u001b[0mcsv_data\u001b[0m\u001b[1;33m:\u001b[0m\u001b[1;33m\u001b[0m\u001b[0m\n\u001b[0m\u001b[0;32m     31\u001b[0m     \u001b[1;32mprint\u001b[0m \u001b[0mline\u001b[0m\u001b[1;33m\u001b[0m\u001b[0m\n",
        "\u001b[1;32mC:\\Python27\\lib\\csv.pyc\u001b[0m in \u001b[0;36mnext\u001b[1;34m(self)\u001b[0m\n\u001b[0;32m    102\u001b[0m             \u001b[1;31m# Used only for its side effect.\u001b[0m\u001b[1;33m\u001b[0m\u001b[1;33m\u001b[0m\u001b[0m\n\u001b[0;32m    103\u001b[0m             \u001b[0mself\u001b[0m\u001b[1;33m.\u001b[0m\u001b[0mfieldnames\u001b[0m\u001b[1;33m\u001b[0m\u001b[0m\n\u001b[1;32m--> 104\u001b[1;33m         \u001b[0mrow\u001b[0m \u001b[1;33m=\u001b[0m \u001b[0mself\u001b[0m\u001b[1;33m.\u001b[0m\u001b[0mreader\u001b[0m\u001b[1;33m.\u001b[0m\u001b[0mnext\u001b[0m\u001b[1;33m(\u001b[0m\u001b[1;33m)\u001b[0m\u001b[1;33m\u001b[0m\u001b[0m\n\u001b[0m\u001b[0;32m    105\u001b[0m         \u001b[0mself\u001b[0m\u001b[1;33m.\u001b[0m\u001b[0mline_num\u001b[0m \u001b[1;33m=\u001b[0m \u001b[0mself\u001b[0m\u001b[1;33m.\u001b[0m\u001b[0mreader\u001b[0m\u001b[1;33m.\u001b[0m\u001b[0mline_num\u001b[0m\u001b[1;33m\u001b[0m\u001b[0m\n\u001b[0;32m    106\u001b[0m \u001b[1;33m\u001b[0m\u001b[0m\n",
        "\u001b[1;31mValueError\u001b[0m: I/O operation on closed file"
       ]
      },
      {
       "output_type": "stream",
       "stream": "stdout",
       "text": [
        "{'yaw': '0.988955435785', 'lon': '0.284929516716', 'pitch': '0.52695685126', 'lat': '0.489828788138', 'alt': '0.0233341103902', 'roll': '0.829866135702'}\n",
        "{'yaw': '0.0422622581052', 'lon': '0.356786252068', 'pitch': '0.891273413941', 'lat': '0.35776762306', 'alt': '0.917608087392', 'roll': '0.606390213901'}\n",
        "{'yaw': '0.740693963047', 'lon': '0.402014117599', 'pitch': '0.794486268242', 'lat': '0.715079616169', 'alt': '0.106778699848', 'roll': '0.315738905373'}\n",
        "{'yaw': '0.283044049367', 'lon': '0.393593356208', 'pitch': '0.940318547364', 'lat': '0.984421734088', 'alt': '0.866756437982', 'roll': '0.549420710274'}\n",
        "{'yaw': '0.332729620082', 'lon': '0.890107315115', 'pitch': '0.568229815792', 'lat': '0.590636234163', 'alt': '0.852180380265', 'roll': '0.319015099975'}\n",
        "{'yaw': '0.118627066082', 'lon': '0.53766773985', 'pitch': '0.42765355485', 'lat': '0.97878594245', 'alt': '0.806551158332', 'roll': '0.386943749919'}\n",
        "False\n",
        "True\n"
       ]
      }
     ],
     "prompt_number": 65
    },
    {
     "cell_type": "code",
     "collapsed": false,
     "input": [
      "# as you can see above, the DictReader parsed the file and organized the data \n",
      "# into a dictionary per line with the header as the key and the data as the value\n",
      "# however this data is live, which means it's a pointer to the file only so as soon\n",
      "# as the file is closed we lose the data\n",
      "# it also means that once we loop to the structure once we can access the data\n",
      "# again\n",
      "# read the file into a dictionary\n",
      "fin = open(csv_file, 'rb')\n",
      "csv_data = csv.DictReader(fin, delimiter=',')\n",
      "\n",
      "# let's see how the structure looks\n",
      "for line in csv_data:\n",
      "    print line\n",
      "    \n",
      "# this will give us nothing\n",
      "for line in csv_data:\n",
      "    print line['yaw']\n",
      "\n",
      "    \n",
      "fin.close()"
     ],
     "language": "python",
     "metadata": {},
     "outputs": [
      {
       "output_type": "stream",
       "stream": "stdout",
       "text": [
        "{'yaw': '0.988955435785', 'lon': '0.284929516716', 'pitch': '0.52695685126', 'lat': '0.489828788138', 'alt': '0.0233341103902', 'roll': '0.829866135702'}\n",
        "{'yaw': '0.0422622581052', 'lon': '0.356786252068', 'pitch': '0.891273413941', 'lat': '0.35776762306', 'alt': '0.917608087392', 'roll': '0.606390213901'}\n",
        "{'yaw': '0.740693963047', 'lon': '0.402014117599', 'pitch': '0.794486268242', 'lat': '0.715079616169', 'alt': '0.106778699848', 'roll': '0.315738905373'}\n",
        "{'yaw': '0.283044049367', 'lon': '0.393593356208', 'pitch': '0.940318547364', 'lat': '0.984421734088', 'alt': '0.866756437982', 'roll': '0.549420710274'}\n",
        "{'yaw': '0.332729620082', 'lon': '0.890107315115', 'pitch': '0.568229815792', 'lat': '0.590636234163', 'alt': '0.852180380265', 'roll': '0.319015099975'}\n",
        "{'yaw': '0.118627066082', 'lon': '0.53766773985', 'pitch': '0.42765355485', 'lat': '0.97878594245', 'alt': '0.806551158332', 'roll': '0.386943749919'}\n"
       ]
      }
     ],
     "prompt_number": 67
    },
    {
     "cell_type": "code",
     "collapsed": false,
     "input": [
      "# so to get the data by column, we do this\n",
      "fin = open(csv_file, 'rb')\n",
      "csv_data = csv.DictReader(fin, delimiter=',')\n",
      "\n",
      "# let's see how the structure looks\n",
      "for line in csv_data:\n",
      "    print line['lat']"
     ],
     "language": "python",
     "metadata": {},
     "outputs": [
      {
       "output_type": "stream",
       "stream": "stdout",
       "text": [
        "0.489828788138\n",
        "0.35776762306\n",
        "0.715079616169\n",
        "0.984421734088\n",
        "0.590636234163\n",
        "0.97878594245\n"
       ]
      }
     ],
     "prompt_number": 68
    },
    {
     "cell_type": "heading",
     "level": 6,
     "metadata": {},
     "source": [
      "<div style=\"color:orange\">\n",
      "  <h2>Binary Files</h2>\n",
      "</div>"
     ]
    },
    {
     "cell_type": "heading",
     "level": 6,
     "metadata": {},
     "source": [
      "<div style=\"color:orange\">\n",
      "  <h2>Pickled Files</h2>\n",
      "</div>"
     ]
    },
    {
     "cell_type": "heading",
     "level": 6,
     "metadata": {},
     "source": [
      "<div style=\"color:orange\">\n",
      "  <h2>Specialty Files</h2>\n",
      "</div>"
     ]
    },
    {
     "cell_type": "markdown",
     "metadata": {},
     "source": [
      "CSV file access functions\n",
      "<ul>\n",
      "<li> csv.reader</li>\n",
      "<li> csv.writer</li>\n",
      "<li> csv.register_dialect</li>\n",
      "<li> csv.unregister_dialect</li>\n",
      "<li> csv.get_dialect</li>\n",
      "<li> csv.list_dialects</li>\n",
      "<li> csv.field_size_limit</li>\n",
      "</ul>"
     ]
    }
   ],
   "metadata": {}
  }
 ]
}